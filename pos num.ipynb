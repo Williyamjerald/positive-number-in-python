{
 "cells": [
  {
   "cell_type": "code",
   "execution_count": 7,
   "id": "23d6dd3d",
   "metadata": {},
   "outputs": [
    {
     "name": "stdout",
     "output_type": "stream",
     "text": [
      "Input list1:  [12, -7, 5, 64, -14]\n",
      "output list: \n",
      "12 5 64 "
     ]
    }
   ],
   "source": [
    "input_list1 = [12,-7,5,64,-14]\n",
    "print(\"Input list1: \",input_list1)\n",
    "print(\"output list: \")\n",
    "for pos_nums in input_list1:\n",
    "    if pos_nums > 0:\n",
    "        print(pos_nums, end = \" \")"
   ]
  },
  {
   "cell_type": "code",
   "execution_count": 8,
   "id": "bbf0b318",
   "metadata": {},
   "outputs": [
    {
     "name": "stdout",
     "output_type": "stream",
     "text": [
      "Input list2:  [12, 14, -95, 3]\n",
      "output list: \n",
      "12 14 3 "
     ]
    }
   ],
   "source": [
    "input_list2 = [12,14,-95,3]\n",
    "print(\"Input list2: \",input_list2)\n",
    "print(\"output list: \")\n",
    "for pos_nums in input_list2:\n",
    "    if pos_nums > 0:\n",
    "        print(pos_nums, end = \" \")\n"
   ]
  },
  {
   "cell_type": "code",
   "execution_count": null,
   "id": "84f8e18e",
   "metadata": {},
   "outputs": [],
   "source": []
  }
 ],
 "metadata": {
  "kernelspec": {
   "display_name": "Python 3 (ipykernel)",
   "language": "python",
   "name": "python3"
  },
  "language_info": {
   "codemirror_mode": {
    "name": "ipython",
    "version": 3
   },
   "file_extension": ".py",
   "mimetype": "text/x-python",
   "name": "python",
   "nbconvert_exporter": "python",
   "pygments_lexer": "ipython3",
   "version": "3.9.6"
  }
 },
 "nbformat": 4,
 "nbformat_minor": 5
}
